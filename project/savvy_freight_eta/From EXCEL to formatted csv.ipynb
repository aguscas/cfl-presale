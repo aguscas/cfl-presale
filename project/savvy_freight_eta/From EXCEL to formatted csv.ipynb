{
 "cells": [
  {
   "cell_type": "code",
   "execution_count": 12,
   "source": [
    "import pandas as pd\n",
    "import matplotlib.pyplot as plt\n",
    "\n",
    "from datetime import datetime\n",
    "\n",
    "from savvy_freight_eta.constants import (\n",
    "    ORDER_ID,\n",
    "    GEN_FOLDER,\n",
    "    DATA_FOLDER,\n",
    "    ORIGIN,\n",
    "    DESTINATION,\n",
    "    PLANNED_DEPARTURE_DATE,\n",
    "    EFFECTIVE_DEPARTURE_DATE,\n",
    "    PLANNED_ARRIVAL_DATE,\n",
    "    EFFECTIVE_ARRIVAL_DATE,\n",
    "    PO_DATASET_PATH,\n",
    ")"
   ],
   "outputs": [],
   "metadata": {}
  },
  {
   "cell_type": "code",
   "execution_count": 13,
   "source": [
    "print(f\"{DATA_FOLDER}transition_time.xlsx\")\n",
    "df = pd.read_excel(\n",
    "        DATA_FOLDER / \"transition_time.xlsx\",\n",
    "        dtype={\"Order Number\": \"str\"}\n",
    "    )\n",
    "\n",
    "date_cols =  [\"PTS\", \"ATS\", \"PTA\", \"ATA\", \"ETA\"]\n",
    "df = df[[\"Order Number\", \"Ship-From\", \"Ship-To\"] + date_cols]\n",
    "df = df.dropna(axis=0)"
   ],
   "outputs": [
    {
     "output_type": "stream",
     "name": "stdout",
     "text": [
      "/home/aguscas/github/cfl-savvy-freight-eta/data\n"
     ]
    }
   ],
   "metadata": {}
  },
  {
   "cell_type": "code",
   "execution_count": 14,
   "source": [
    "df.shape"
   ],
   "outputs": [
    {
     "output_type": "execute_result",
     "data": {
      "text/plain": [
       "(5443, 7)"
      ]
     },
     "metadata": {},
     "execution_count": 14
    }
   ],
   "metadata": {}
  },
  {
   "cell_type": "code",
   "execution_count": 15,
   "source": [
    "df.nunique()"
   ],
   "outputs": [
    {
     "output_type": "execute_result",
     "data": {
      "text/plain": [
       "Order Number    5443\n",
       "Ship-From         10\n",
       "Ship-To           73\n",
       "PTS              127\n",
       "ATS             2979\n",
       "PTA              132\n",
       "ATA             3632\n",
       "dtype: int64"
      ]
     },
     "metadata": {},
     "execution_count": 15
    }
   ],
   "metadata": {}
  },
  {
   "cell_type": "code",
   "execution_count": 16,
   "source": [
    "for col in date_cols:\n",
    "    df[col] = df[col].astype(str).apply(lambda x: x[4:])\n",
    "    df[col] = pd.to_datetime(df[col], format=\"%d.%m. %H:%M\")\n",
    "    df[col] = df[col].apply(lambda x: x.replace(year=2020) if x.month == 12 else x.replace(year=2021))"
   ],
   "outputs": [],
   "metadata": {}
  },
  {
   "cell_type": "code",
   "execution_count": 17,
   "source": [
    "df.head()"
   ],
   "outputs": [
    {
     "output_type": "execute_result",
     "data": {
      "text/plain": [
       "          Order Number        Ship-From                      Ship-To  \\\n",
       "1  2182202012160020102  ESCH-BELVAL (R)             MERTERT PORT (R)   \n",
       "2  2182202012160020103  ESCH-BELVAL (R)       DUISBURG-RUHRORT HAFEN   \n",
       "4  2182202012160020105  ESCH-BELVAL (R)  ANTWERPEN OORDEREN K486-504   \n",
       "5  2182202012160020106  ESCH-BELVAL (R)             MERTERT PORT (R)   \n",
       "6  2182202012160020107  ESCH-BELVAL (R)             MERTERT PORT (R)   \n",
       "\n",
       "                  PTS                 ATS                 PTA  \\\n",
       "1 2020-12-16 11:08:00 2020-12-16 11:59:00 2020-12-22 11:09:00   \n",
       "2 2020-12-16 11:08:00 2020-12-16 11:59:00 2020-12-23 11:09:00   \n",
       "4 2020-12-16 11:08:00 2020-12-16 11:59:00 2020-12-21 11:09:00   \n",
       "5 2020-12-16 11:08:00 2020-12-16 11:45:00 2020-12-22 11:09:00   \n",
       "6 2020-12-16 11:08:00 2020-12-16 11:29:00 2020-12-22 11:09:00   \n",
       "\n",
       "                  ATA  \n",
       "1 2020-12-19 08:50:00  \n",
       "2 2020-12-22 10:02:00  \n",
       "4 2020-12-24 09:56:00  \n",
       "5 2020-12-19 05:12:00  \n",
       "6 2020-12-19 05:36:00  "
      ],
      "text/html": [
       "<div>\n",
       "<style scoped>\n",
       "    .dataframe tbody tr th:only-of-type {\n",
       "        vertical-align: middle;\n",
       "    }\n",
       "\n",
       "    .dataframe tbody tr th {\n",
       "        vertical-align: top;\n",
       "    }\n",
       "\n",
       "    .dataframe thead th {\n",
       "        text-align: right;\n",
       "    }\n",
       "</style>\n",
       "<table border=\"1\" class=\"dataframe\">\n",
       "  <thead>\n",
       "    <tr style=\"text-align: right;\">\n",
       "      <th></th>\n",
       "      <th>Order Number</th>\n",
       "      <th>Ship-From</th>\n",
       "      <th>Ship-To</th>\n",
       "      <th>PTS</th>\n",
       "      <th>ATS</th>\n",
       "      <th>PTA</th>\n",
       "      <th>ATA</th>\n",
       "    </tr>\n",
       "  </thead>\n",
       "  <tbody>\n",
       "    <tr>\n",
       "      <th>1</th>\n",
       "      <td>2182202012160020102</td>\n",
       "      <td>ESCH-BELVAL (R)</td>\n",
       "      <td>MERTERT PORT (R)</td>\n",
       "      <td>2020-12-16 11:08:00</td>\n",
       "      <td>2020-12-16 11:59:00</td>\n",
       "      <td>2020-12-22 11:09:00</td>\n",
       "      <td>2020-12-19 08:50:00</td>\n",
       "    </tr>\n",
       "    <tr>\n",
       "      <th>2</th>\n",
       "      <td>2182202012160020103</td>\n",
       "      <td>ESCH-BELVAL (R)</td>\n",
       "      <td>DUISBURG-RUHRORT HAFEN</td>\n",
       "      <td>2020-12-16 11:08:00</td>\n",
       "      <td>2020-12-16 11:59:00</td>\n",
       "      <td>2020-12-23 11:09:00</td>\n",
       "      <td>2020-12-22 10:02:00</td>\n",
       "    </tr>\n",
       "    <tr>\n",
       "      <th>4</th>\n",
       "      <td>2182202012160020105</td>\n",
       "      <td>ESCH-BELVAL (R)</td>\n",
       "      <td>ANTWERPEN OORDEREN K486-504</td>\n",
       "      <td>2020-12-16 11:08:00</td>\n",
       "      <td>2020-12-16 11:59:00</td>\n",
       "      <td>2020-12-21 11:09:00</td>\n",
       "      <td>2020-12-24 09:56:00</td>\n",
       "    </tr>\n",
       "    <tr>\n",
       "      <th>5</th>\n",
       "      <td>2182202012160020106</td>\n",
       "      <td>ESCH-BELVAL (R)</td>\n",
       "      <td>MERTERT PORT (R)</td>\n",
       "      <td>2020-12-16 11:08:00</td>\n",
       "      <td>2020-12-16 11:45:00</td>\n",
       "      <td>2020-12-22 11:09:00</td>\n",
       "      <td>2020-12-19 05:12:00</td>\n",
       "    </tr>\n",
       "    <tr>\n",
       "      <th>6</th>\n",
       "      <td>2182202012160020107</td>\n",
       "      <td>ESCH-BELVAL (R)</td>\n",
       "      <td>MERTERT PORT (R)</td>\n",
       "      <td>2020-12-16 11:08:00</td>\n",
       "      <td>2020-12-16 11:29:00</td>\n",
       "      <td>2020-12-22 11:09:00</td>\n",
       "      <td>2020-12-19 05:36:00</td>\n",
       "    </tr>\n",
       "  </tbody>\n",
       "</table>\n",
       "</div>"
      ]
     },
     "metadata": {},
     "execution_count": 17
    }
   ],
   "metadata": {}
  },
  {
   "cell_type": "code",
   "execution_count": 18,
   "source": [
    "df.to_csv(GEN_FOLDER / \"po_dataset.csv\")"
   ],
   "outputs": [],
   "metadata": {}
  },
  {
   "cell_type": "code",
   "execution_count": null,
   "source": [],
   "outputs": [],
   "metadata": {}
  }
 ],
 "metadata": {
  "kernelspec": {
   "display_name": "Python 3 (ipykernel)",
   "language": "python",
   "name": "python3"
  },
  "language_info": {
   "codemirror_mode": {
    "name": "ipython",
    "version": 3
   },
   "file_extension": ".py",
   "mimetype": "text/x-python",
   "name": "python",
   "nbconvert_exporter": "python",
   "pygments_lexer": "ipython3",
   "version": "3.8.8"
  }
 },
 "nbformat": 4,
 "nbformat_minor": 5
}